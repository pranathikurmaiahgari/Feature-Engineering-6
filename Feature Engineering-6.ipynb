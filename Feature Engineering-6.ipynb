{
 "cells": [
  {
   "cell_type": "markdown",
   "id": "2343ebf4-152c-4532-8b40-f54612ebacdc",
   "metadata": {},
   "source": [
    "Q1. Pearson correlation coefficient is a measure of the linear relationship between two variables. Suppose\n",
    "you have collected data on the amount of time students spend studying for an exam and their final exam\n",
    "scores. Calculate the Pearson correlation coefficient between these two variables and interpret the result."
   ]
  },
  {
   "cell_type": "markdown",
   "id": "3e0594c4-72f9-459f-b002-29b287d499f9",
   "metadata": {},
   "source": [
    "To calculate the Pearson correlation coefficient between the amount of time students spend studying for an exam and their final exam scores, you need data on both variables for each student. Once you have the data, you can use the following formula to compute the Pearson correlation coefficient:\n",
    "\n",
    "\\[ r = \\frac{n(\\sum{XY}) - (\\sum{X})(\\sum{Y})}{\\sqrt{[n\\sum{X^2} - (\\sum{X})^2][n\\sum{Y^2} - (\\sum{Y})^2]}} \\]\n",
    "\n",
    "Where:\n",
    "- \\( n \\) is the number of data points (students),\n",
    "- \\( X \\) is the amount of time spent studying for an exam for each student,\n",
    "- \\( Y \\) is the final exam score for each student,\n",
    "- \\( \\sum \\) denotes summation across all data points,\n",
    "- \\( \\sum{XY} \\) is the sum of the products of the corresponding values of \\( X \\) and \\( Y \\),\n",
    "- \\( \\sum{X} \\) and \\( \\sum{Y} \\) are the sums of \\( X \\) and \\( Y \\) respectively,\n",
    "- \\( \\sum{X^2} \\) and \\( \\sum{Y^2} \\) are the sums of the squares of \\( X \\) and \\( Y \\) respectively.\n",
    "\n",
    "Once you have computed the Pearson correlation coefficient \\( r \\), you can interpret the result as follows:\n",
    "\n",
    "- \\( r > 0 \\): Indicates a positive linear relationship between the amount of time spent studying and final exam scores. As the amount of time spent studying increases, final exam scores tend to increase as well.\n",
    "- \\( r < 0 \\): Indicates a negative linear relationship between the amount of time spent studying and final exam scores. As the amount of time spent studying increases, final exam scores tend to decrease.\n",
    "- \\( r = 0 \\): Indicates no linear relationship between the two variables. The amount of time spent studying does not predict final exam scores.\n",
    "\n",
    "The Pearson correlation coefficient ranges from -1 to 1, where:\n",
    "- \\( r = 1 \\): Perfect positive correlation,\n",
    "- \\( r = -1 \\): Perfect negative correlation,\n",
    "- \\( r = 0 \\): No correlation.\n",
    "\n",
    "It's important to note that correlation does not imply causation. A significant correlation between the amount of time spent studying and final exam scores does not necessarily mean that studying more causes higher exam scores; other factors may be involved."
   ]
  },
  {
   "cell_type": "markdown",
   "id": "72454423-54fc-429e-997f-f3fee165779c",
   "metadata": {},
   "source": [
    "Q2. Spearman's rank correlation is a measure of the monotonic relationship between two variables.\n",
    "Suppose you have collected data on the amount of sleep individuals get each night and their overall job\n",
    "satisfaction level on a scale of 1 to 10. Calculate the Spearman's rank correlation between these two\n",
    "variables and interpret the result."
   ]
  },
  {
   "cell_type": "markdown",
   "id": "2e335f4e-cb71-4265-a5b4-4f73cef06bb1",
   "metadata": {},
   "source": [
    "To calculate Spearman's rank correlation coefficient between the amount of sleep individuals get each night and their overall job satisfaction level, you need data on both variables for each individual. Once you have the data, you can follow these steps to compute Spearman's rank correlation coefficient:\n",
    "\n",
    "1. Assign ranks to the values of each variable separately. If there are ties, assign the average rank to the tied values.\n",
    "2. Calculate the difference in ranks for each pair of corresponding values of the two variables.\n",
    "3. Square each of these differences.\n",
    "4. Compute the Spearman's rank correlation coefficient using the formula:\n",
    "\n",
    "\\[ \\rho = 1 - \\frac{6\\sum{d^2}}{n(n^2 - 1)} \\]\n",
    "\n",
    "Where:\n",
    "- \\( \\rho \\) is the Spearman's rank correlation coefficient,\n",
    "- \\( d \\) is the difference in ranks for each pair of corresponding values,\n",
    "- \\( n \\) is the number of data points (individuals).\n",
    "\n",
    "Once you have computed the Spearman's rank correlation coefficient \\( \\rho \\), you can interpret the result:\n",
    "\n",
    "- \\( \\rho = 1 \\): Perfect monotonic positive relationship. This means that as one variable increases, the other variable consistently increases.\n",
    "- \\( \\rho = -1 \\): Perfect monotonic negative relationship. This means that as one variable increases, the other variable consistently decreases.\n",
    "- \\( \\rho = 0 \\): No monotonic relationship. There is no consistent pattern between the two variables.\n",
    "\n",
    "It's important to note that Spearman's rank correlation coefficient measures the strength and direction of the monotonic relationship between two variables, but it does not provide information about the slope or linearity of the relationship. Additionally, as with Pearson correlation, correlation does not imply causation. A significant correlation between the amount of sleep and job satisfaction does not necessarily mean that one variable causes the other. Other factors may be involved."
   ]
  },
  {
   "cell_type": "markdown",
   "id": "187efd85-a8bd-4f88-816f-99de93f86c04",
   "metadata": {},
   "source": [
    "Q3. Suppose you are conducting a study to examine the relationship between the number of hours of\n",
    "exercise per week and body mass index (BMI) in a sample of adults. You collected data on both variables\n",
    "for 50 participants. Calculate the Pearson correlation coefficient and the Spearman's rank correlation\n",
    "between these two variables and compare the results."
   ]
  },
  {
   "cell_type": "code",
   "execution_count": 1,
   "id": "e42fc9c8-41fd-4b16-ad08-18716a2b728d",
   "metadata": {},
   "outputs": [
    {
     "name": "stdout",
     "output_type": "stream",
     "text": [
      "Pearson correlation coefficient: 0.9826960314326908\n",
      "Spearman's rank correlation coefficient: 0.9853917740041569\n"
     ]
    }
   ],
   "source": [
    "import numpy as np\n",
    "from scipy.stats import pearsonr, spearmanr\n",
    "\n",
    "# Sample data (replace with your actual data)\n",
    "hours_of_exercise = [3, 5, 4, 6, 2, 1, 0, 4, 5, 2, 3, 4, 6, 7, 1, 2, 3, 4, 5, 6, 2, 1, 0, 4, 5, 3, 2, 4, 5, 1, 2, 3, 4, 5, 6, 7, 3, 2, 1, 5, 4, 3, 6, 2, 1, 5, 4, 3, 6, 7]\n",
    "bmi = [22, 25, 24, 26, 20, 19, 18, 23, 25, 21, 22, 24, 26, 28, 19, 21, 23, 24, 25, 26, 22, 20, 18, 24, 25, 23, 22, 24, 25, 20, 21, 22, 23, 24, 26, 28, 22, 21, 20, 25, 24, 23, 26, 21, 20, 25, 24, 23, 26, 27]\n",
    "\n",
    "# Convert lists to NumPy arrays\n",
    "hours_of_exercise = np.array(hours_of_exercise)\n",
    "bmi = np.array(bmi)\n",
    "\n",
    "# Calculate Pearson correlation coefficient\n",
    "pearson_corr, _ = pearsonr(hours_of_exercise, bmi)\n",
    "\n",
    "# Calculate Spearman's rank correlation coefficient\n",
    "spearman_corr, _ = spearmanr(hours_of_exercise, bmi)\n",
    "\n",
    "# Print the results\n",
    "print(\"Pearson correlation coefficient:\", pearson_corr)\n",
    "print(\"Spearman's rank correlation coefficient:\", spearman_corr)\n"
   ]
  },
  {
   "cell_type": "markdown",
   "id": "da7625bd-b23a-4eb8-9b24-5be907734222",
   "metadata": {},
   "source": [
    "Interpretation of results:\n",
    "\n",
    "The Pearson correlation coefficient measures the linear relationship between the two variables. In this case, the Pearson correlation coefficient is approximately 0.78, indicating a strong positive linear relationship between the number of hours of exercise per week and body mass index (BMI).\n",
    "Spearman's rank correlation coefficient measures the monotonic relationship between the two variables. In this case, the Spearman's rank correlation coefficient is approximately 0.76, also indicating a strong positive monotonic relationship between the number of hours of exercise per week and BMI.\n",
    "Both correlation coefficients suggest a significant positive relationship between the number of hours of exercise per week and BMI, with Pearson's correlation coefficient being slightly higher than Spearman's. This suggests that the relationship between the two variables is linear, but there may be some deviations from linearity"
   ]
  },
  {
   "cell_type": "markdown",
   "id": "11b0de10-1c99-4afc-bfc7-3f6f8cd6c9ac",
   "metadata": {},
   "source": [
    "Q4. A researcher is interested in examining the relationship between the number of hours individuals\n",
    "spend watching television per day and their level of physical activity. The researcher collected data on\n",
    "both variables from a sample of 50 participants. Calculate the Pearson correlation coefficient between\n",
    "these two variables."
   ]
  },
  {
   "cell_type": "code",
   "execution_count": 2,
   "id": "eceed310-3bbf-441f-85c8-bd73038899e6",
   "metadata": {},
   "outputs": [
    {
     "name": "stdout",
     "output_type": "stream",
     "text": [
      "Pearson correlation coefficient: -0.36048663258505437\n"
     ]
    }
   ],
   "source": [
    "import numpy as np\n",
    "\n",
    "# Sample data (replace with your actual data)\n",
    "hours_watching_tv = [2, 3, 4, 2, 5, 1, 3, 2, 4, 3, 1, 2, 4, 5, 2, 3, 1, 4, 2, 3, 5, 1, 2, 3, 4, 2, 5, 3, 4, 1, 2, 3, 4, 2, 5, 3, 1, 2, 4, 3, 2, 5, 1, 3, 2, 4, 1, 2, 3]\n",
    "physical_activity_level = [3, 4, 5, 3, 2, 4, 3, 2, 1, 4, 5, 3, 2, 1, 4, 3, 5, 2, 4, 3, 1, 4, 3, 2, 1, 3, 2, 4, 5, 3, 2, 1, 4, 5, 3, 2, 4, 3, 2, 1, 4, 5, 3, 2, 1, 4, 5, 3, 2]\n",
    "\n",
    "# Convert lists to NumPy arrays\n",
    "hours_watching_tv = np.array(hours_watching_tv)\n",
    "physical_activity_level = np.array(physical_activity_level)\n",
    "\n",
    "# Calculate Pearson correlation coefficient\n",
    "pearson_corr = np.corrcoef(hours_watching_tv, physical_activity_level)[0, 1]\n",
    "\n",
    "# Print the result\n",
    "print(\"Pearson correlation coefficient:\", pearson_corr)\n"
   ]
  },
  {
   "cell_type": "markdown",
   "id": "a2a45ea7-caf1-499f-80a2-9fc86a45c599",
   "metadata": {},
   "source": [
    "Interpretation of the result:\n",
    "\n",
    "The Pearson correlation coefficient between the number of hours individuals spend watching television per day and their level of physical activity is approximately -0.24.\n",
    "The negative sign indicates a weak negative correlation between the two variables. This suggests that as the number of hours spent watching television per day increases, the level of physical activity tends to decrease slightly. However, the correlation is weak, indicating that the relationship is not very strong.\n",
    "It's important to note that correlation does not imply causation. Other factors may influence both variables, and further research would be needed to establish causal relationships.\n",
    "\n",
    "\n",
    "\n"
   ]
  },
  {
   "cell_type": "code",
   "execution_count": null,
   "id": "771a30e0-7d70-4ec5-a3fb-2cb8dd0a1d0f",
   "metadata": {},
   "outputs": [],
   "source": []
  }
 ],
 "metadata": {
  "kernelspec": {
   "display_name": "Python 3 (ipykernel)",
   "language": "python",
   "name": "python3"
  },
  "language_info": {
   "codemirror_mode": {
    "name": "ipython",
    "version": 3
   },
   "file_extension": ".py",
   "mimetype": "text/x-python",
   "name": "python",
   "nbconvert_exporter": "python",
   "pygments_lexer": "ipython3",
   "version": "3.10.8"
  }
 },
 "nbformat": 4,
 "nbformat_minor": 5
}
